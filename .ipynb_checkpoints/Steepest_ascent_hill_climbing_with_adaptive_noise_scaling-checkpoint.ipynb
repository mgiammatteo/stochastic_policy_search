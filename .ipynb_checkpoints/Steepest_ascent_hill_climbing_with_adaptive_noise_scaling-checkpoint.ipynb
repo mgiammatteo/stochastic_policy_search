{
 "cells": [
  {
   "cell_type": "markdown",
   "metadata": {},
   "source": [
    "# Steepest Ascent Hill Climbing with Adaptive Noise Scaling\n",
    "\n",
    "---\n",
    "\n",
    "In this notebook, we will train steepest ascent hill climbing with adaptive noise scaling with OpenAI Gym's Cartpole environment."
   ]
  },
  {
   "cell_type": "markdown",
   "metadata": {},
   "source": [
    "### 1. Import the Necessary Packages"
   ]
  },
  {
   "cell_type": "code",
   "execution_count": 1,
   "metadata": {},
   "outputs": [],
   "source": [
    "import gym\n",
    "import numpy as np\n",
    "from collections import deque\n",
    "import matplotlib.pyplot as plt\n",
    "import math\n",
    "%matplotlib inline"
   ]
  },
  {
   "cell_type": "markdown",
   "metadata": {},
   "source": [
    "### 2. Define the Policy"
   ]
  },
  {
   "cell_type": "code",
   "execution_count": 2,
   "metadata": {},
   "outputs": [
    {
     "name": "stdout",
     "output_type": "stream",
     "text": [
      "observation space: Box(4,)\n",
      "action space: Discrete(2)\n"
     ]
    }
   ],
   "source": [
    "env = gym.make('CartPole-v0')\n",
    "print('observation space:', env.observation_space)\n",
    "print('action space:', env.action_space)\n",
    "\n",
    "class Policy():\n",
    "    def __init__(self, s_size=4, a_size=2):\n",
    "        self.w = np.random.rand(s_size, a_size)  # weights for simple linear policy: state_space x action_space\n",
    "        self.s_size = s_size\n",
    "        self.a_size = a_size\n",
    "        \n",
    "    def forward(self, state):\n",
    "        x = np.dot(state, self.w)\n",
    "        return np.exp(x)/sum(np.exp(x))\n",
    "    \n",
    "    def act(self, state):\n",
    "        probs = self.forward(state)\n",
    "        #action = np.random.choice(2, p=probs) # option 1: stochastic policy\n",
    "        action = np.argmax(probs)              # option 2: deterministic policy\n",
    "        return action"
   ]
  },
  {
   "cell_type": "code",
   "execution_count": 3,
   "metadata": {},
   "outputs": [],
   "source": [
    "policy = Policy()\n",
    "# Define Evaluation function\n",
    "def run_episode(weights, gamma=1.0, max_t=5000):\n",
    "    policy.w = weights\n",
    "    episode_return = 0.0\n",
    "    state = env.reset()\n",
    "    for t in range(max_t):\n",
    "        action = policy.act(state)\n",
    "        state, reward, done, _ = env.step(action)\n",
    "        episode_return += reward * math.pow(gamma, t)\n",
    "        if done:\n",
    "            break \n",
    "\n",
    "    return episode_return"
   ]
  },
  {
   "cell_type": "markdown",
   "metadata": {},
   "source": [
    "### 3. Train the Agent with Stochastic Policy Search (Steepest Ascent Hill Climbing with Adaptive Noise Scaling)"
   ]
  },
  {
   "cell_type": "code",
   "execution_count": 4,
   "metadata": {},
   "outputs": [
    {
     "name": "stdout",
     "output_type": "stream",
     "text": [
      "Episode 10\tAverage Score: 156.00\n",
      "Episode 20\tAverage Score: 178.00\n",
      "Episode 30\tAverage Score: 185.33\n",
      "Episode 40\tAverage Score: 189.00\n",
      "Episode 50\tAverage Score: 191.20\n",
      "Episode 60\tAverage Score: 192.67\n",
      "Episode 70\tAverage Score: 192.79\n",
      "Episode 80\tAverage Score: 192.88\n",
      "Episode 90\tAverage Score: 193.59\n",
      "Episode 100\tAverage Score: 194.04\n",
      "Environment solved in 101 episodes!\tAverage Score: 195.96\n"
     ]
    }
   ],
   "source": [
    "env = gym.make('CartPole-v0')\n",
    "env.seed(101)\n",
    "np.random.seed(101)\n",
    "\n",
    "#policy = Policy()\n",
    "\n",
    "def steepest_ascent_hill_climbing(n_episodes=1000, max_t=1000, gamma=1.0, print_every=10, pop_size=50, noise_scale=1e-2):\n",
    "    \"\"\"Implementation of hill climbing with adaptive noise scaling.\n",
    "        \n",
    "    Params\n",
    "    ======\n",
    "        n_episodes (int): maximum number of training episodes\n",
    "        max_t (int): maximum number of timesteps per episode\n",
    "        gamma (float): discount rate\n",
    "        print_every (int): how often to print average score (over last 100 episodes)\n",
    "    \"\"\"\n",
    "    scores_deque = deque(maxlen=100)\n",
    "    scores = []\n",
    "    best_R = -np.Inf\n",
    "    best_w = policy.w\n",
    "    for i_episode in range(1, n_episodes+1):\n",
    "        weights_pop = [best_w + (np.random.rand(policy.s_size, policy.a_size)) for i in range(pop_size)]\n",
    "        rewards = np.array([run_episode(weights, gamma, max_t) for weights in weights_pop])\n",
    "\n",
    "        best_id = np.argmax(rewards)\n",
    "        best_weight = weights_pop[best_id]\n",
    "\n",
    "        # run episode with best weights\n",
    "        R = run_episode(best_weight, gamma=1.0)\n",
    "        scores_deque.append(R)\n",
    "        scores.append(R)\n",
    "\n",
    "        if R >= best_R: # found better weights \n",
    "            best_R = R\n",
    "            best_w = policy.w\n",
    "            noise_scale = max(1e-3, noise_scale / 2)\n",
    "            policy.w += noise_scale * np.random.rand(*policy.w.shape)\n",
    "        else: # did not find better weights \n",
    "            noise_scale = min(2, noise_scale * 2)\n",
    "            policy.w = best_w + noise_scale * np.random.rand(*policy.w.shape)\n",
    "\n",
    "        if i_episode % print_every == 0:\n",
    "            print('Episode {}\\tAverage Score: {:.2f}'.format(i_episode, np.mean(scores_deque)))\n",
    "        if np.mean(scores_deque)>=195.0:\n",
    "            print('Environment solved in {:d} episodes!\\tAverage Score: {:.2f}'.format(i_episode, np.mean(scores_deque)))\n",
    "            policy.w = best_w\n",
    "            break\n",
    "        \n",
    "    return scores\n",
    "            \n",
    "scores = steepest_ascent_hill_climbing()"
   ]
  },
  {
   "cell_type": "markdown",
   "metadata": {},
   "source": [
    "### 4. Plot the Scores"
   ]
  },
  {
   "cell_type": "code",
   "execution_count": null,
   "metadata": {},
   "outputs": [],
   "source": [
    "fig = plt.figure()\n",
    "ax = fig.add_subplot(111)\n",
    "plt.plot(np.arange(1, len(scores)+1), scores)\n",
    "plt.ylabel('Score')\n",
    "plt.xlabel('Episode #')\n",
    "plt.show()"
   ]
  },
  {
   "cell_type": "markdown",
   "metadata": {},
   "source": [
    "### 5. Watch a Smart Agent!"
   ]
  },
  {
   "cell_type": "code",
   "execution_count": null,
   "metadata": {},
   "outputs": [],
   "source": [
    "env = gym.make('CartPole-v0')\n",
    "state = env.reset()\n",
    "for t in range(200):\n",
    "    action = policy.act(state)\n",
    "    env.render()\n",
    "    state, reward, done, _ = env.step(action)\n",
    "    if done:\n",
    "        break \n",
    "\n",
    "env.close()"
   ]
  },
  {
   "cell_type": "code",
   "execution_count": null,
   "metadata": {},
   "outputs": [],
   "source": []
  }
 ],
 "metadata": {
  "anaconda-cloud": {},
  "kernelspec": {
   "display_name": "drlnd",
   "language": "python",
   "name": "drlnd"
  },
  "language_info": {
   "codemirror_mode": {
    "name": "ipython",
    "version": 3
   },
   "file_extension": ".py",
   "mimetype": "text/x-python",
   "name": "python",
   "nbconvert_exporter": "python",
   "pygments_lexer": "ipython3",
   "version": "3.6.8"
  }
 },
 "nbformat": 4,
 "nbformat_minor": 2
}
